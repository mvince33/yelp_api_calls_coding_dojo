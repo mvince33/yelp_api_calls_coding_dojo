{
 "cells": [
  {
   "cell_type": "markdown",
   "id": "4f9d92dc",
   "metadata": {},
   "source": [
    "# Efficient Yelp API calls\n",
    "- Michael Vincent\n",
    "- 9/19"
   ]
  },
  {
   "cell_type": "markdown",
   "id": "a4fff91a",
   "metadata": {
    "heading_collapsed": true
   },
   "source": [
    "## Imports"
   ]
  },
  {
   "cell_type": "code",
   "execution_count": 1,
   "id": "2af7fe14",
   "metadata": {
    "hidden": true
   },
   "outputs": [],
   "source": [
    "# Imports\n",
    "import numpy as np\n",
    "import pandas as pd\n",
    "import os, math, json, time\n",
    "from yelpapi import YelpAPI\n",
    "from tqdm.notebook import tqdm_notebook"
   ]
  },
  {
   "cell_type": "markdown",
   "id": "0b70613a",
   "metadata": {
    "heading_collapsed": true
   },
   "source": [
    "## Helper function for JSON file creation."
   ]
  },
  {
   "cell_type": "code",
   "execution_count": 2,
   "id": "526a31f2",
   "metadata": {
    "hidden": true
   },
   "outputs": [],
   "source": [
    "def create_json_file(json_file, delete_if_exists = False):\n",
    "    \n",
    "    # Check if the file exists\n",
    "    file_exists = os.path.isfile(json_file)\n",
    "    \n",
    "    # If the file does exist\n",
    "    if file_exists:\n",
    "        # Check if the user wants to delete the file\n",
    "        if delete_if_exists:\n",
    "            print(f'[!] {json_file} already exists. Deleting the previous file.')\n",
    "            os.remove(json_file)\n",
    "        else:\n",
    "            print(f'[i] {json_file} alread exsits.')\n",
    "    # If the file does NOT exist\n",
    "    else:\n",
    "        # Inform user and save empty list\n",
    "        print(f'[i] {json_file} not found. Saving empty list to new file.')\n",
    "        \n",
    "        # Create any needed folders\n",
    "        folder = os.path.dirname(json_file)\n",
    "        \n",
    "        # If json_file included a folder\n",
    "        if len(folder) > 0:\n",
    "            os.makedirs(foldel, exist_ok = True)\n",
    "            \n",
    "        # Save the empty list to start the file\n",
    "        with open(json_file, 'w') as f:\n",
    "            json.dump([], f)"
   ]
  },
  {
   "cell_type": "markdown",
   "id": "3b2c7e51",
   "metadata": {
    "heading_collapsed": true
   },
   "source": [
    "## Load API credentials\n"
   ]
  },
  {
   "cell_type": "code",
   "execution_count": 3,
   "id": "bd5a6cc5",
   "metadata": {
    "hidden": true
   },
   "outputs": [],
   "source": [
    "# Load API credentials\n",
    "with open('/home/michael/.secret/yelp_api.json') as f:\n",
    "    login = json.load(f)\n",
    "yelp_api = YelpAPI(login['api-key'], timeout_s = 5.0)"
   ]
  },
  {
   "cell_type": "markdown",
   "id": "0aa1fc63",
   "metadata": {
    "heading_collapsed": true
   },
   "source": [
    "## Specify file name and create the file to store the API calls"
   ]
  },
  {
   "cell_type": "code",
   "execution_count": 4,
   "id": "5390683d",
   "metadata": {
    "hidden": true
   },
   "outputs": [
    {
     "name": "stdout",
     "output_type": "stream",
     "text": [
      "[i] yelp_records.json alread exsits.\n"
     ]
    }
   ],
   "source": [
    "json_file = 'yelp_records.json'\n",
    "create_json_file(json_file)"
   ]
  },
  {
   "cell_type": "markdown",
   "id": "d4869c2d",
   "metadata": {
    "heading_collapsed": true
   },
   "source": [
    "## Initial query and setup for the loop"
   ]
  },
  {
   "cell_type": "code",
   "execution_count": 5,
   "id": "a107e8cc",
   "metadata": {
    "hidden": true
   },
   "outputs": [
    {
     "data": {
      "text/plain": [
       "dict_keys(['businesses', 'total', 'region'])"
      ]
     },
     "execution_count": 5,
     "metadata": {},
     "output_type": "execute_result"
    }
   ],
   "source": [
    "# Initial query\n",
    "results = yelp_api.search_query(location = 'Seattle, WA',\n",
    "                                term = 'Vegetarian')\n",
    "\n",
    "results.keys()"
   ]
  },
  {
   "cell_type": "code",
   "execution_count": 6,
   "id": "9f340b3f",
   "metadata": {
    "hidden": true
   },
   "outputs": [
    {
     "name": "stdout",
     "output_type": "stream",
     "text": [
      "There are 4300 results in our query.\n"
     ]
    }
   ],
   "source": [
    "# Find the total number of results\n",
    "print('There are', results['total'], 'results in our query.')"
   ]
  },
  {
   "cell_type": "code",
   "execution_count": 7,
   "id": "83851ec8",
   "metadata": {
    "hidden": true
   },
   "outputs": [
    {
     "name": "stdout",
     "output_type": "stream",
     "text": [
      "There are 20 results per page.\n"
     ]
    }
   ],
   "source": [
    "# Find the number of results per page\n",
    "results_per_page = len(results['businesses'])\n",
    "print('There are', results_per_page, 'results per page.')"
   ]
  },
  {
   "cell_type": "code",
   "execution_count": 8,
   "id": "c031a53b",
   "metadata": {
    "hidden": true
   },
   "outputs": [
    {
     "data": {
      "text/plain": [
       "215"
      ]
     },
     "execution_count": 8,
     "metadata": {},
     "output_type": "execute_result"
    }
   ],
   "source": [
    "# Find the number of pages necessary to get all of our results\n",
    "n_pages = math.ceil(results['total'] / len(results['businesses']))\n",
    "n_pages"
   ]
  },
  {
   "cell_type": "code",
   "execution_count": 9,
   "id": "af1f1d83",
   "metadata": {
    "hidden": true
   },
   "outputs": [],
   "source": [
    "# Store the search results\n",
    "previous_results = results['businesses']"
   ]
  },
  {
   "cell_type": "markdown",
   "id": "f8a5b966",
   "metadata": {
    "heading_collapsed": true
   },
   "source": [
    "## Loop to get the remaining results\n"
   ]
  },
  {
   "cell_type": "code",
   "execution_count": 10,
   "id": "76c4545a",
   "metadata": {
    "hidden": true
   },
   "outputs": [
    {
     "data": {
      "application/json": {
       "ascii": false,
       "bar_format": null,
       "colour": null,
       "elapsed": 0.013557672500610352,
       "initial": 0,
       "n": 0,
       "ncols": null,
       "nrows": 43,
       "postfix": null,
       "prefix": "",
       "rate": null,
       "total": 215,
       "unit": "it",
       "unit_divisor": 1000,
       "unit_scale": false
      },
      "application/vnd.jupyter.widget-view+json": {
       "model_id": "629b4324d389471d8fdf8ea1a0e23070",
       "version_major": 2,
       "version_minor": 0
      },
      "text/plain": [
       "  0%|          | 0/215 [00:00<?, ?it/s]"
      ]
     },
     "metadata": {},
     "output_type": "display_data"
    },
    {
     "name": "stdout",
     "output_type": "stream",
     "text": [
      "Exceeded 1000 API calls. Terminating loop.\n"
     ]
    }
   ],
   "source": [
    "# Make a loop to get all of our queries\n",
    "for i in tqdm_notebook(range(1, n_pages + 1)):\n",
    "    # Get the results so far\n",
    "    with open(json_file, 'r') as f:\n",
    "        previous_results = json.load(f)\n",
    "    n_results = len(previous_results)\n",
    "    if (n_results + results_per_page) > 1000:\n",
    "        print('Exceeded 1000 API calls. Terminating loop.')\n",
    "        break\n",
    "    # Use n_results as the offset\n",
    "    results = yelp_api.search_query(location = 'Seattle, WA',\n",
    "                                    term = 'Vegetarian',\n",
    "                                    offset = n_results)\n",
    "    # Append the new results and save the file\n",
    "    previous_results.extend(results['businesses'])\n",
    "    with open(json_file, 'w') as f:\n",
    "        json.dump(previous_results, f)\n",
    "        \n",
    "    # Add a 200 ms pause\n",
    "    time.sleep(0.2)"
   ]
  },
  {
   "cell_type": "markdown",
   "id": "d8ecb3d5",
   "metadata": {
    "heading_collapsed": true
   },
   "source": [
    "## Put the search results in a data frame and save to a compressed CSV file"
   ]
  },
  {
   "cell_type": "code",
   "execution_count": 11,
   "id": "647e7534",
   "metadata": {
    "hidden": true
   },
   "outputs": [
    {
     "data": {
      "text/html": [
       "<div>\n",
       "<style scoped>\n",
       "    .dataframe tbody tr th:only-of-type {\n",
       "        vertical-align: middle;\n",
       "    }\n",
       "\n",
       "    .dataframe tbody tr th {\n",
       "        vertical-align: top;\n",
       "    }\n",
       "\n",
       "    .dataframe thead th {\n",
       "        text-align: right;\n",
       "    }\n",
       "</style>\n",
       "<table border=\"1\" class=\"dataframe\">\n",
       "  <thead>\n",
       "    <tr style=\"text-align: right;\">\n",
       "      <th></th>\n",
       "      <th>id</th>\n",
       "      <th>alias</th>\n",
       "      <th>name</th>\n",
       "      <th>image_url</th>\n",
       "      <th>is_closed</th>\n",
       "      <th>url</th>\n",
       "      <th>review_count</th>\n",
       "      <th>categories</th>\n",
       "      <th>rating</th>\n",
       "      <th>coordinates</th>\n",
       "      <th>transactions</th>\n",
       "      <th>price</th>\n",
       "      <th>location</th>\n",
       "      <th>phone</th>\n",
       "      <th>display_phone</th>\n",
       "      <th>distance</th>\n",
       "    </tr>\n",
       "  </thead>\n",
       "  <tbody>\n",
       "    <tr>\n",
       "      <th>0</th>\n",
       "      <td>djjEdAZkY4eyzI3_8TBLVA</td>\n",
       "      <td>plum-bistro-seattle-2</td>\n",
       "      <td>Plum Bistro</td>\n",
       "      <td>https://s3-media3.fl.yelpcdn.com/bphoto/DlnguN...</td>\n",
       "      <td>False</td>\n",
       "      <td>https://www.yelp.com/biz/plum-bistro-seattle-2...</td>\n",
       "      <td>1802</td>\n",
       "      <td>[{'alias': 'vegan', 'title': 'Vegan'}]</td>\n",
       "      <td>4.0</td>\n",
       "      <td>{'latitude': 47.6137675, 'longitude': -122.317...</td>\n",
       "      <td>[delivery, pickup]</td>\n",
       "      <td>$$</td>\n",
       "      <td>{'address1': '1429 12th Ave', 'address2': '', ...</td>\n",
       "      <td>+12068385333</td>\n",
       "      <td>(206) 838-5333</td>\n",
       "      <td>1888.191530</td>\n",
       "    </tr>\n",
       "    <tr>\n",
       "      <th>1</th>\n",
       "      <td>9nJlVsm9GEz6DFhK5ckaYA</td>\n",
       "      <td>cafe-flora-seattle</td>\n",
       "      <td>Cafe Flora</td>\n",
       "      <td>https://s3-media1.fl.yelpcdn.com/bphoto/M33I7s...</td>\n",
       "      <td>False</td>\n",
       "      <td>https://www.yelp.com/biz/cafe-flora-seattle?ad...</td>\n",
       "      <td>1433</td>\n",
       "      <td>[{'alias': 'vegetarian', 'title': 'Vegetarian'...</td>\n",
       "      <td>4.0</td>\n",
       "      <td>{'latitude': 47.62397, 'longitude': -122.29521}</td>\n",
       "      <td>[delivery]</td>\n",
       "      <td>$$</td>\n",
       "      <td>{'address1': '2901 E Madison St', 'address2': ...</td>\n",
       "      <td>+12063259100</td>\n",
       "      <td>(206) 325-9100</td>\n",
       "      <td>3033.471253</td>\n",
       "    </tr>\n",
       "    <tr>\n",
       "      <th>2</th>\n",
       "      <td>0jZIOA_9H3YOsbiyoyRWrA</td>\n",
       "      <td>seattle-lotus-vegetarian-restaurant-seattle</td>\n",
       "      <td>Seattle Lotus Vegetarian Restaurant</td>\n",
       "      <td>https://s3-media1.fl.yelpcdn.com/bphoto/GWvM2a...</td>\n",
       "      <td>False</td>\n",
       "      <td>https://www.yelp.com/biz/seattle-lotus-vegetar...</td>\n",
       "      <td>176</td>\n",
       "      <td>[{'alias': 'vegetarian', 'title': 'Vegetarian'...</td>\n",
       "      <td>4.5</td>\n",
       "      <td>{'latitude': 47.5088066528403, 'longitude': -1...</td>\n",
       "      <td>[pickup]</td>\n",
       "      <td>$$</td>\n",
       "      <td>{'address1': '10439 16th Ave SW', 'address2': ...</td>\n",
       "      <td>+12064666345</td>\n",
       "      <td>(206) 466-6345</td>\n",
       "      <td>13054.220036</td>\n",
       "    </tr>\n",
       "    <tr>\n",
       "      <th>3</th>\n",
       "      <td>mOybprI4rEcRQUxBqAhupw</td>\n",
       "      <td>harvest-beat-seattle</td>\n",
       "      <td>Harvest Beat</td>\n",
       "      <td>https://s3-media3.fl.yelpcdn.com/bphoto/KVq5tn...</td>\n",
       "      <td>False</td>\n",
       "      <td>https://www.yelp.com/biz/harvest-beat-seattle?...</td>\n",
       "      <td>230</td>\n",
       "      <td>[{'alias': 'vegetarian', 'title': 'Vegetarian'...</td>\n",
       "      <td>4.5</td>\n",
       "      <td>{'latitude': 47.66115, 'longitude': -122.33678}</td>\n",
       "      <td>[]</td>\n",
       "      <td>$$$</td>\n",
       "      <td>{'address1': '1711 N 45th St', 'address2': '',...</td>\n",
       "      <td>+12065471348</td>\n",
       "      <td>(206) 547-1348</td>\n",
       "      <td>3976.167517</td>\n",
       "    </tr>\n",
       "    <tr>\n",
       "      <th>4</th>\n",
       "      <td>7eoMEbus8ANI15VuYzUNkQ</td>\n",
       "      <td>moonlight-cafe-seattle</td>\n",
       "      <td>Moonlight Cafe</td>\n",
       "      <td>https://s3-media4.fl.yelpcdn.com/bphoto/J2m1Jy...</td>\n",
       "      <td>False</td>\n",
       "      <td>https://www.yelp.com/biz/moonlight-cafe-seattl...</td>\n",
       "      <td>451</td>\n",
       "      <td>[{'alias': 'vegetarian', 'title': 'Vegetarian'...</td>\n",
       "      <td>4.0</td>\n",
       "      <td>{'latitude': 47.59901, 'longitude': -122.30672}</td>\n",
       "      <td>[delivery, pickup]</td>\n",
       "      <td>$</td>\n",
       "      <td>{'address1': '1919 S Jackson St', 'address2': ...</td>\n",
       "      <td>+12064857313</td>\n",
       "      <td>(206) 485-7313</td>\n",
       "      <td>3654.663113</td>\n",
       "    </tr>\n",
       "  </tbody>\n",
       "</table>\n",
       "</div>"
      ],
      "text/plain": [
       "                       id                                        alias  \\\n",
       "0  djjEdAZkY4eyzI3_8TBLVA                        plum-bistro-seattle-2   \n",
       "1  9nJlVsm9GEz6DFhK5ckaYA                           cafe-flora-seattle   \n",
       "2  0jZIOA_9H3YOsbiyoyRWrA  seattle-lotus-vegetarian-restaurant-seattle   \n",
       "3  mOybprI4rEcRQUxBqAhupw                         harvest-beat-seattle   \n",
       "4  7eoMEbus8ANI15VuYzUNkQ                       moonlight-cafe-seattle   \n",
       "\n",
       "                                  name  \\\n",
       "0                          Plum Bistro   \n",
       "1                           Cafe Flora   \n",
       "2  Seattle Lotus Vegetarian Restaurant   \n",
       "3                         Harvest Beat   \n",
       "4                       Moonlight Cafe   \n",
       "\n",
       "                                           image_url  is_closed  \\\n",
       "0  https://s3-media3.fl.yelpcdn.com/bphoto/DlnguN...      False   \n",
       "1  https://s3-media1.fl.yelpcdn.com/bphoto/M33I7s...      False   \n",
       "2  https://s3-media1.fl.yelpcdn.com/bphoto/GWvM2a...      False   \n",
       "3  https://s3-media3.fl.yelpcdn.com/bphoto/KVq5tn...      False   \n",
       "4  https://s3-media4.fl.yelpcdn.com/bphoto/J2m1Jy...      False   \n",
       "\n",
       "                                                 url  review_count  \\\n",
       "0  https://www.yelp.com/biz/plum-bistro-seattle-2...          1802   \n",
       "1  https://www.yelp.com/biz/cafe-flora-seattle?ad...          1433   \n",
       "2  https://www.yelp.com/biz/seattle-lotus-vegetar...           176   \n",
       "3  https://www.yelp.com/biz/harvest-beat-seattle?...           230   \n",
       "4  https://www.yelp.com/biz/moonlight-cafe-seattl...           451   \n",
       "\n",
       "                                          categories  rating  \\\n",
       "0             [{'alias': 'vegan', 'title': 'Vegan'}]     4.0   \n",
       "1  [{'alias': 'vegetarian', 'title': 'Vegetarian'...     4.0   \n",
       "2  [{'alias': 'vegetarian', 'title': 'Vegetarian'...     4.5   \n",
       "3  [{'alias': 'vegetarian', 'title': 'Vegetarian'...     4.5   \n",
       "4  [{'alias': 'vegetarian', 'title': 'Vegetarian'...     4.0   \n",
       "\n",
       "                                         coordinates        transactions  \\\n",
       "0  {'latitude': 47.6137675, 'longitude': -122.317...  [delivery, pickup]   \n",
       "1    {'latitude': 47.62397, 'longitude': -122.29521}          [delivery]   \n",
       "2  {'latitude': 47.5088066528403, 'longitude': -1...            [pickup]   \n",
       "3    {'latitude': 47.66115, 'longitude': -122.33678}                  []   \n",
       "4    {'latitude': 47.59901, 'longitude': -122.30672}  [delivery, pickup]   \n",
       "\n",
       "  price                                           location         phone  \\\n",
       "0    $$  {'address1': '1429 12th Ave', 'address2': '', ...  +12068385333   \n",
       "1    $$  {'address1': '2901 E Madison St', 'address2': ...  +12063259100   \n",
       "2    $$  {'address1': '10439 16th Ave SW', 'address2': ...  +12064666345   \n",
       "3   $$$  {'address1': '1711 N 45th St', 'address2': '',...  +12065471348   \n",
       "4     $  {'address1': '1919 S Jackson St', 'address2': ...  +12064857313   \n",
       "\n",
       "    display_phone      distance  \n",
       "0  (206) 838-5333   1888.191530  \n",
       "1  (206) 325-9100   3033.471253  \n",
       "2  (206) 466-6345  13054.220036  \n",
       "3  (206) 547-1348   3976.167517  \n",
       "4  (206) 485-7313   3654.663113  "
      ]
     },
     "metadata": {},
     "output_type": "display_data"
    },
    {
     "data": {
      "text/html": [
       "<div>\n",
       "<style scoped>\n",
       "    .dataframe tbody tr th:only-of-type {\n",
       "        vertical-align: middle;\n",
       "    }\n",
       "\n",
       "    .dataframe tbody tr th {\n",
       "        vertical-align: top;\n",
       "    }\n",
       "\n",
       "    .dataframe thead th {\n",
       "        text-align: right;\n",
       "    }\n",
       "</style>\n",
       "<table border=\"1\" class=\"dataframe\">\n",
       "  <thead>\n",
       "    <tr style=\"text-align: right;\">\n",
       "      <th></th>\n",
       "      <th>id</th>\n",
       "      <th>alias</th>\n",
       "      <th>name</th>\n",
       "      <th>image_url</th>\n",
       "      <th>is_closed</th>\n",
       "      <th>url</th>\n",
       "      <th>review_count</th>\n",
       "      <th>categories</th>\n",
       "      <th>rating</th>\n",
       "      <th>coordinates</th>\n",
       "      <th>transactions</th>\n",
       "      <th>price</th>\n",
       "      <th>location</th>\n",
       "      <th>phone</th>\n",
       "      <th>display_phone</th>\n",
       "      <th>distance</th>\n",
       "    </tr>\n",
       "  </thead>\n",
       "  <tbody>\n",
       "    <tr>\n",
       "      <th>995</th>\n",
       "      <td>USoCUrnuGw1mwzVpo_dlmA</td>\n",
       "      <td>guanacos-tacos-pupuseria-seattle</td>\n",
       "      <td>Guanaco's Tacos Pupuseria</td>\n",
       "      <td>https://s3-media3.fl.yelpcdn.com/bphoto/qJDEQ5...</td>\n",
       "      <td>False</td>\n",
       "      <td>https://www.yelp.com/biz/guanacos-tacos-pupuse...</td>\n",
       "      <td>365</td>\n",
       "      <td>[{'alias': 'salvadoran', 'title': 'Salvadoran'...</td>\n",
       "      <td>4.0</td>\n",
       "      <td>{'latitude': 47.65714142901622, 'longitude': -...</td>\n",
       "      <td>[delivery, pickup]</td>\n",
       "      <td>$$</td>\n",
       "      <td>{'address1': '4106 Brooklyn Ave NE', 'address2...</td>\n",
       "      <td>+12065472369</td>\n",
       "      <td>(206) 547-2369</td>\n",
       "      <td>3877.166003</td>\n",
       "    </tr>\n",
       "    <tr>\n",
       "      <th>996</th>\n",
       "      <td>nQPPzUaPIMeJdohOrrjmOQ</td>\n",
       "      <td>junebaby-seattle</td>\n",
       "      <td>JuneBaby</td>\n",
       "      <td>https://s3-media3.fl.yelpcdn.com/bphoto/X-35Xy...</td>\n",
       "      <td>False</td>\n",
       "      <td>https://www.yelp.com/biz/junebaby-seattle?adju...</td>\n",
       "      <td>574</td>\n",
       "      <td>[{'alias': 'southern', 'title': 'Southern'}]</td>\n",
       "      <td>4.0</td>\n",
       "      <td>{'latitude': 47.67591, 'longitude': -122.3041}</td>\n",
       "      <td>[delivery]</td>\n",
       "      <td>$$</td>\n",
       "      <td>{'address1': '2122 NE 65th St', 'address2': No...</td>\n",
       "      <td>+12062574470</td>\n",
       "      <td>(206) 257-4470</td>\n",
       "      <td>6089.943581</td>\n",
       "    </tr>\n",
       "    <tr>\n",
       "      <th>997</th>\n",
       "      <td>WpewCoy0Y3scs24z87fkSA</td>\n",
       "      <td>new-china-express-seattle-2</td>\n",
       "      <td>New China Express</td>\n",
       "      <td>https://s3-media2.fl.yelpcdn.com/bphoto/nLMKuV...</td>\n",
       "      <td>False</td>\n",
       "      <td>https://www.yelp.com/biz/new-china-express-sea...</td>\n",
       "      <td>176</td>\n",
       "      <td>[{'alias': 'chinese', 'title': 'Chinese'}]</td>\n",
       "      <td>3.5</td>\n",
       "      <td>{'latitude': 47.64518117682651, 'longitude': -...</td>\n",
       "      <td>[delivery, pickup]</td>\n",
       "      <td>$$</td>\n",
       "      <td>{'address1': '2809 Thorndyke Ave W', 'address2...</td>\n",
       "      <td>+12062174725</td>\n",
       "      <td>(206) 217-4725</td>\n",
       "      <td>4193.937034</td>\n",
       "    </tr>\n",
       "    <tr>\n",
       "      <th>998</th>\n",
       "      <td>q8jisVM1b30HxvjCMWrXVw</td>\n",
       "      <td>yangguofu-ygf-malatang-seattle</td>\n",
       "      <td>YangGuoFu YGF MalaTang</td>\n",
       "      <td>https://s3-media4.fl.yelpcdn.com/bphoto/tJSbK5...</td>\n",
       "      <td>False</td>\n",
       "      <td>https://www.yelp.com/biz/yangguofu-ygf-malatan...</td>\n",
       "      <td>48</td>\n",
       "      <td>[{'alias': 'chinese', 'title': 'Chinese'}, {'a...</td>\n",
       "      <td>4.0</td>\n",
       "      <td>{'latitude': 47.66371549516702, 'longitude': -...</td>\n",
       "      <td>[]</td>\n",
       "      <td>$$</td>\n",
       "      <td>{'address1': '4730 University Way NE', 'addres...</td>\n",
       "      <td>+12069223496</td>\n",
       "      <td>(206) 922-3496</td>\n",
       "      <td>4581.551901</td>\n",
       "    </tr>\n",
       "    <tr>\n",
       "      <th>999</th>\n",
       "      <td>q1mDH2gq_NVCj0y3Pq7bDA</td>\n",
       "      <td>chicagos-pizza-with-a-twist-lynnwood-2</td>\n",
       "      <td>Chicago's Pizza With A Twist</td>\n",
       "      <td>https://s3-media2.fl.yelpcdn.com/bphoto/NEuDPc...</td>\n",
       "      <td>False</td>\n",
       "      <td>https://www.yelp.com/biz/chicagos-pizza-with-a...</td>\n",
       "      <td>89</td>\n",
       "      <td>[{'alias': 'pizza', 'title': 'Pizza'}, {'alias...</td>\n",
       "      <td>3.5</td>\n",
       "      <td>{'latitude': 47.80842312103281, 'longitude': -...</td>\n",
       "      <td>[delivery, pickup]</td>\n",
       "      <td>NaN</td>\n",
       "      <td>{'address1': '20925 Cypress Way', 'address2': ...</td>\n",
       "      <td>+14256163393</td>\n",
       "      <td>(425) 616-3393</td>\n",
       "      <td>21122.261794</td>\n",
       "    </tr>\n",
       "  </tbody>\n",
       "</table>\n",
       "</div>"
      ],
      "text/plain": [
       "                         id                                   alias  \\\n",
       "995  USoCUrnuGw1mwzVpo_dlmA        guanacos-tacos-pupuseria-seattle   \n",
       "996  nQPPzUaPIMeJdohOrrjmOQ                        junebaby-seattle   \n",
       "997  WpewCoy0Y3scs24z87fkSA             new-china-express-seattle-2   \n",
       "998  q8jisVM1b30HxvjCMWrXVw          yangguofu-ygf-malatang-seattle   \n",
       "999  q1mDH2gq_NVCj0y3Pq7bDA  chicagos-pizza-with-a-twist-lynnwood-2   \n",
       "\n",
       "                             name  \\\n",
       "995     Guanaco's Tacos Pupuseria   \n",
       "996                      JuneBaby   \n",
       "997             New China Express   \n",
       "998        YangGuoFu YGF MalaTang   \n",
       "999  Chicago's Pizza With A Twist   \n",
       "\n",
       "                                             image_url  is_closed  \\\n",
       "995  https://s3-media3.fl.yelpcdn.com/bphoto/qJDEQ5...      False   \n",
       "996  https://s3-media3.fl.yelpcdn.com/bphoto/X-35Xy...      False   \n",
       "997  https://s3-media2.fl.yelpcdn.com/bphoto/nLMKuV...      False   \n",
       "998  https://s3-media4.fl.yelpcdn.com/bphoto/tJSbK5...      False   \n",
       "999  https://s3-media2.fl.yelpcdn.com/bphoto/NEuDPc...      False   \n",
       "\n",
       "                                                   url  review_count  \\\n",
       "995  https://www.yelp.com/biz/guanacos-tacos-pupuse...           365   \n",
       "996  https://www.yelp.com/biz/junebaby-seattle?adju...           574   \n",
       "997  https://www.yelp.com/biz/new-china-express-sea...           176   \n",
       "998  https://www.yelp.com/biz/yangguofu-ygf-malatan...            48   \n",
       "999  https://www.yelp.com/biz/chicagos-pizza-with-a...            89   \n",
       "\n",
       "                                            categories  rating  \\\n",
       "995  [{'alias': 'salvadoran', 'title': 'Salvadoran'...     4.0   \n",
       "996       [{'alias': 'southern', 'title': 'Southern'}]     4.0   \n",
       "997         [{'alias': 'chinese', 'title': 'Chinese'}]     3.5   \n",
       "998  [{'alias': 'chinese', 'title': 'Chinese'}, {'a...     4.0   \n",
       "999  [{'alias': 'pizza', 'title': 'Pizza'}, {'alias...     3.5   \n",
       "\n",
       "                                           coordinates        transactions  \\\n",
       "995  {'latitude': 47.65714142901622, 'longitude': -...  [delivery, pickup]   \n",
       "996     {'latitude': 47.67591, 'longitude': -122.3041}          [delivery]   \n",
       "997  {'latitude': 47.64518117682651, 'longitude': -...  [delivery, pickup]   \n",
       "998  {'latitude': 47.66371549516702, 'longitude': -...                  []   \n",
       "999  {'latitude': 47.80842312103281, 'longitude': -...  [delivery, pickup]   \n",
       "\n",
       "    price                                           location         phone  \\\n",
       "995    $$  {'address1': '4106 Brooklyn Ave NE', 'address2...  +12065472369   \n",
       "996    $$  {'address1': '2122 NE 65th St', 'address2': No...  +12062574470   \n",
       "997    $$  {'address1': '2809 Thorndyke Ave W', 'address2...  +12062174725   \n",
       "998    $$  {'address1': '4730 University Way NE', 'addres...  +12069223496   \n",
       "999   NaN  {'address1': '20925 Cypress Way', 'address2': ...  +14256163393   \n",
       "\n",
       "      display_phone      distance  \n",
       "995  (206) 547-2369   3877.166003  \n",
       "996  (206) 257-4470   6089.943581  \n",
       "997  (206) 217-4725   4193.937034  \n",
       "998  (206) 922-3496   4581.551901  \n",
       "999  (425) 616-3393  21122.261794  "
      ]
     },
     "metadata": {},
     "output_type": "display_data"
    }
   ],
   "source": [
    "df = pd.read_json(json_file)\n",
    "display(df.head(), df.tail())"
   ]
  },
  {
   "cell_type": "code",
   "execution_count": 12,
   "id": "b77200b6",
   "metadata": {
    "hidden": true
   },
   "outputs": [
    {
     "data": {
      "text/plain": [
       "5"
      ]
     },
     "execution_count": 12,
     "metadata": {},
     "output_type": "execute_result"
    }
   ],
   "source": [
    "# Check for duplicates\n",
    "df.duplicated(subset = 'id').sum()"
   ]
  },
  {
   "cell_type": "code",
   "execution_count": 13,
   "id": "4f92474f",
   "metadata": {
    "hidden": true
   },
   "outputs": [
    {
     "data": {
      "text/plain": [
       "0"
      ]
     },
     "execution_count": 13,
     "metadata": {},
     "output_type": "execute_result"
    }
   ],
   "source": [
    "# Remove the duplicates\n",
    "df.drop_duplicates(subset = 'id', inplace = True)\n",
    "\n",
    "# Confirm the duplicates were dropped\n",
    "df.duplicated(subset = 'id').sum()"
   ]
  },
  {
   "cell_type": "code",
   "execution_count": 14,
   "id": "90f50934",
   "metadata": {
    "hidden": true
   },
   "outputs": [],
   "source": [
    "# Make a folder to save the data in\n",
    "os.makedirs('data', exist_ok = True)"
   ]
  },
  {
   "cell_type": "code",
   "execution_count": 15,
   "id": "f5b7ddd8",
   "metadata": {
    "hidden": true
   },
   "outputs": [],
   "source": [
    "# Save the data as a compressed csv\n",
    "df.to_csv('data/final_results_seattle_vegetarian',\n",
    "          compression = 'gzip',\n",
    "          index = False)"
   ]
  }
 ],
 "metadata": {
  "kernelspec": {
   "display_name": "Python (dojo-env)",
   "language": "python",
   "name": "dojo-env"
  },
  "language_info": {
   "codemirror_mode": {
    "name": "ipython",
    "version": 3
   },
   "file_extension": ".py",
   "mimetype": "text/x-python",
   "name": "python",
   "nbconvert_exporter": "python",
   "pygments_lexer": "ipython3",
   "version": "3.8.13"
  },
  "toc": {
   "base_numbering": 1,
   "nav_menu": {},
   "number_sections": false,
   "sideBar": true,
   "skip_h1_title": false,
   "title_cell": "Table of Contents",
   "title_sidebar": "Contents",
   "toc_cell": false,
   "toc_position": {},
   "toc_section_display": true,
   "toc_window_display": false
  }
 },
 "nbformat": 4,
 "nbformat_minor": 5
}
